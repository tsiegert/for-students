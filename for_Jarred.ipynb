{
 "cells": [
  {
   "cell_type": "code",
   "execution_count": 1,
   "id": "024357e1",
   "metadata": {},
   "outputs": [],
   "source": [
    "import numpy as np\n",
    "import matplotlib.pyplot as plt\n",
    "plt.style.use('thomas')"
   ]
  },
  {
   "cell_type": "code",
   "execution_count": 2,
   "id": "c58d3728",
   "metadata": {},
   "outputs": [],
   "source": [
    "from scipy.optimize import curve_fit"
   ]
  },
  {
   "cell_type": "code",
   "execution_count": 3,
   "id": "65172294",
   "metadata": {},
   "outputs": [],
   "source": [
    "def line(x,a,b):\n",
    "    return a + b*x"
   ]
  },
  {
   "cell_type": "code",
   "execution_count": 4,
   "id": "249684dd",
   "metadata": {},
   "outputs": [],
   "source": [
    "N = 10\n",
    "x = np.arange(N)\n",
    "\n",
    "par = np.array([2.,1.])\n",
    "\n",
    "y = line(x,par[0],par[1])\n",
    "\n",
    "sigma_y = 0.5\n",
    "y_err = np.repeat(sigma_y,N)\n",
    "\n",
    "y_d = y + np.random.randn(N)+y_err"
   ]
  },
  {
   "cell_type": "code",
   "execution_count": 5,
   "id": "55d50bf8",
   "metadata": {},
   "outputs": [
    {
     "data": {
      "text/plain": [
       "<ErrorbarContainer object of 3 artists>"
      ]
     },
     "execution_count": 5,
     "metadata": {},
     "output_type": "execute_result"
    },
    {
     "data": {
      "image/png": "[encoded data removed]",
      "text/plain": [
       "<Figure size 576x432 with 1 Axes>"
      ]
     },
     "metadata": {
      "needs_background": "light"
     },
     "output_type": "display_data"
    }
   ],
   "source": [
    "plt.errorbar(x,y_d,yerr=y_err,linestyle='',marker='o')"
   ]
  },
  {
   "cell_type": "code",
   "execution_count": null,
   "id": "28157148",
   "metadata": {},
   "outputs": [],
   "source": []
  },
  {
   "cell_type": "code",
   "execution_count": 6,
   "id": "66bb5733",
   "metadata": {},
   "outputs": [],
   "source": [
    "result = curve_fit(line,x,y_d,p0=np.array([2.,1.]),sigma=y_err)"
   ]
  },
  {
   "cell_type": "code",
   "execution_count": 7,
   "id": "fe350582",
   "metadata": {},
   "outputs": [],
   "source": [
    "fit_par = result[0]\n",
    "fit_cov = result[1]"
   ]
  },
  {
   "cell_type": "code",
   "execution_count": 8,
   "id": "f6534d12",
   "metadata": {},
   "outputs": [
    {
     "data": {
      "text/plain": [
       "array([3.31024332, 0.92285929])"
      ]
     },
     "execution_count": 8,
     "metadata": {},
     "output_type": "execute_result"
    }
   ],
   "source": [
    "# fit parameters\n",
    "fit_par"
   ]
  },
  {
   "cell_type": "code",
   "execution_count": 9,
   "id": "9e73fa98",
   "metadata": {},
   "outputs": [
    {
     "data": {
      "text/plain": [
       "array([[ 0.21276525, -0.03359451],\n",
       "       [-0.03359451,  0.00746545]])"
      ]
     },
     "execution_count": 9,
     "metadata": {},
     "output_type": "execute_result"
    }
   ],
   "source": [
    "# fit covariance\n",
    "fit_cov"
   ]
  },
  {
   "cell_type": "code",
   "execution_count": 10,
   "id": "036cab4a",
   "metadata": {},
   "outputs": [
    {
     "data": {
      "text/plain": [
       "array([0.46126484, 0.08640282])"
      ]
     },
     "execution_count": 10,
     "metadata": {},
     "output_type": "execute_result"
    }
   ],
   "source": [
    "# fit uncertainties\n",
    "fit_err = np.sqrt(np.diag(fit_cov))\n",
    "fit_err"
   ]
  },
  {
   "cell_type": "code",
   "execution_count": null,
   "id": "018a8d62",
   "metadata": {},
   "outputs": [],
   "source": []
  },
  {
   "cell_type": "code",
   "execution_count": 11,
   "id": "3ad98075",
   "metadata": {},
   "outputs": [],
   "source": [
    "def BG_counts(x1,x2,a,b):\n",
    "    return a*(x2-x1) + 0.5*b*(x2**2-x1**2)"
   ]
  },
  {
   "cell_type": "code",
   "execution_count": 12,
   "id": "95f39818",
   "metadata": {},
   "outputs": [],
   "source": [
    "def BG_counts_err(x1,x2,a,b,sigma_a,sigma_b,sigma_ab):\n",
    "    return np.sqrt((sigma_a*(x2-x1))**2 + (0.5*sigma_b*(x2**2-x1**2))**2 + 2*(x2-x1)*0.5*(x2**2-x1**2)*sigma_ab)"
   ]
  },
  {
   "cell_type": "code",
   "execution_count": null,
   "id": "c9d35881",
   "metadata": {},
   "outputs": [],
   "source": []
  },
  {
   "cell_type": "code",
   "execution_count": 13,
   "id": "3cbc09a0",
   "metadata": {},
   "outputs": [
    {
     "data": {
      "text/plain": [
       "15.849079491632676"
      ]
     },
     "execution_count": 13,
     "metadata": {},
     "output_type": "execute_result"
    }
   ],
   "source": [
    "BG_counts(4,6.,fit_par[0],fit_par[1])"
   ]
  },
  {
   "cell_type": "code",
   "execution_count": 14,
   "id": "377b8261",
   "metadata": {},
   "outputs": [
    {
     "data": {
      "text/plain": [
       "0.5038106957222228"
      ]
     },
     "execution_count": 14,
     "metadata": {},
     "output_type": "execute_result"
    }
   ],
   "source": [
    "BG_counts_err(4,6.,fit_par[0],fit_par[1],fit_err[0],fit_err[1],fit_cov[0,1])"
   ]
  },
  {
   "cell_type": "code",
   "execution_count": null,
   "id": "3ac1e744",
   "metadata": {},
   "outputs": [],
   "source": []
  },
  {
   "cell_type": "code",
   "execution_count": 15,
   "id": "f5f82d7c",
   "metadata": {},
   "outputs": [],
   "source": [
    "N_band = 1000\n",
    "samples = np.random.multivariate_normal(fit_par,fit_cov,size=N_band)"
   ]
  },
  {
   "cell_type": "code",
   "execution_count": 16,
   "id": "5e18f681",
   "metadata": {},
   "outputs": [
    {
     "data": {
      "text/plain": [
       "(1000, 2)"
      ]
     },
     "execution_count": 16,
     "metadata": {},
     "output_type": "execute_result"
    }
   ],
   "source": [
    "samples.shape"
   ]
  },
  {
   "cell_type": "code",
   "execution_count": 17,
   "id": "020e3472",
   "metadata": {},
   "outputs": [],
   "source": [
    "fit_band = np.zeros((N,N_band))\n",
    "for i in range(N_band):\n",
    "    fit_band[:,i] = line(x,samples[i,0],samples[i,1])"
   ]
  },
  {
   "cell_type": "code",
   "execution_count": 18,
   "id": "16d9f2cd",
   "metadata": {},
   "outputs": [
    {
     "data": {
      "text/plain": [
       "(10, 1000)"
      ]
     },
     "execution_count": 18,
     "metadata": {},
     "output_type": "execute_result"
    }
   ],
   "source": [
    "fit_band.shape"
   ]
  },
  {
   "cell_type": "code",
   "execution_count": 19,
   "id": "ecb1c9bc",
   "metadata": {},
   "outputs": [
    {
     "data": {
      "text/plain": [
       "<ErrorbarContainer object of 3 artists>"
      ]
     },
     "execution_count": 19,
     "metadata": {},
     "output_type": "execute_result"
    },
    {
     "data": {
      "image/png": "[encoded data removed]",
      "text/plain": [
       "<Figure size 576x432 with 1 Axes>"
      ]
     },
     "metadata": {
      "needs_background": "light"
     },
     "output_type": "display_data"
    }
   ],
   "source": [
    "for level in [68.3,95.4]:\n",
    "    plt.fill_between(x,\n",
    "                     np.percentile(fit_band,50-level/2,axis=1),\n",
    "                     np.percentile(fit_band,50+level/2,axis=1),\n",
    "                     alpha=0.3,color='red')\n",
    "\n",
    "plt.errorbar(x,y_d,yerr=y_err,linestyle='',marker='o')"
   ]
  },
  {
   "cell_type": "code",
   "execution_count": null,
   "id": "a1fc216d",
   "metadata": {},
   "outputs": [],
   "source": []
  },
  {
   "cell_type": "code",
   "execution_count": null,
   "id": "2b5d6a52",
   "metadata": {},
   "outputs": [],
   "source": []
  },
  {
   "cell_type": "code",
   "execution_count": null,
   "id": "de807d72",
   "metadata": {},
   "outputs": [],
   "source": []
  }
 ],
 "metadata": {
  "kernelspec": {
   "display_name": "3ml_stuff",
   "language": "python",
   "name": "3ml_stuff"
  },
  "language_info": {
   "codemirror_mode": {
    "name": "ipython",
    "version": 3
   },
   "file_extension": ".py",
   "mimetype": "text/x-python",
   "name": "python",
   "nbconvert_exporter": "python",
   "pygments_lexer": "ipython3",
   "version": "3.7.8"
  }
 },
 "nbformat": 4,
 "nbformat_minor": 5
}
