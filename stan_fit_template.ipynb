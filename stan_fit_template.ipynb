{
 "cells": [
  {
   "cell_type": "code",
   "execution_count": 17,
   "metadata": {},
   "outputs": [],
   "source": [
    "# Template for 1D model fitting with Stan\n",
    "# Example: fitting a straight line in x and y with Gaussian priors\n",
    "# Zero data points allowed (= model prediction from theory)\n",
    "import numpy as np\n",
    "import matplotlib.pyplot as plt\n",
    "import stan_utility\n",
    "import pystan\n",
    "import pickle\n",
    "import sys\n",
    "plt.style.use('thomas')"
   ]
  },
  {
   "cell_type": "code",
   "execution_count": 25,
   "metadata": {},
   "outputs": [],
   "source": [
    "# Create data\n",
    "# True parameters\n",
    "a = 1\n",
    "b = 1\n",
    "\n",
    "# Gaussian priors on a and b\n",
    "mu_a = a\n",
    "sigma_a = 2\n",
    "mu_b = b\n",
    "sigma_b = 2\n",
    "\n",
    "seed = 1234\n",
    "np.random.seed(seed=seed)\n",
    "\n",
    "# Build data set with uncertainties\n",
    "N_obs = 10\n",
    "x     = np.linspace(0,10,N_obs)\n",
    "if len(x) > 1:\n",
    "    x_err = (x[1] - x[0])/2.\n",
    "y     = a + b*x\n",
    "y_err = np.repeat(5,N_obs)\n",
    "yp = y + np.random.randn(N_obs)*y_err"
   ]
  },
  {
   "cell_type": "code",
   "execution_count": 26,
   "metadata": {},
   "outputs": [],
   "source": [
    "# where to evaluate the model for posterior prediction\n",
    "N_model = 100\n",
    "x_model = np.linspace(-2.5,12.5,N_model)"
   ]
  },
  {
   "cell_type": "code",
   "execution_count": 27,
   "metadata": {},
   "outputs": [],
   "source": [
    "# dictionary for data set and prior\n",
    "data2 = dict(N = N_obs,\n",
    "             x = x,\n",
    "             y = yp,\n",
    "             y_err = y_err,\n",
    "             N_model = N_model,\n",
    "             x_model = x_model,\n",
    "             mu_a = mu_a,\n",
    "             sigma_a = sigma_a,\n",
    "             mu_b = mu_b,\n",
    "             sigma_b = sigma_b)"
   ]
  },
  {
   "cell_type": "code",
   "execution_count": 28,
   "metadata": {},
   "outputs": [],
   "source": [
    "## compile model (if not yet compiled):\n",
    "model = pystan.StanModel('fit_straight_line.stan')\n",
    "\n",
    "## save it to the file 'filename.pkl' for later use\n",
    "with open('fit_straight_line_wpriors.pkl', 'wb') as f:\n",
    "    pickle.dump(model, f)\n",
    "    \n",
    "#read filename.pkl (if already compiled)\n",
    "model = pickle.load(open('fit_straight_line_wpriors.pkl', 'rb'))"
   ]
  },
  {
   "cell_type": "code",
   "execution_count": 29,
   "metadata": {},
   "outputs": [],
   "source": [
    "# fit the model\n",
    "fit = model.sampling(data=data2,verbose=True,chains=1,iter=10000)"
   ]
  },
  {
   "cell_type": "code",
   "execution_count": 30,
   "metadata": {},
   "outputs": [
    {
     "name": "stdout",
     "output_type": "stream",
     "text": [
      "Inference for Stan model: anon_model_12e7c7f88af118f91d905a215ff1a2ee.\n",
      "1 chains, each with iter=10000; warmup=5000; thin=1; \n",
      "post-warmup draws per chain=5000, total post-warmup draws=5000.\n",
      "\n",
      "    mean se_mean     sd   2.5%    25%    50%    75%  97.5%  n_eff   Rhat\n",
      "a   1.62    0.04   1.61  -1.52   0.51   1.59   2.72   4.81   1525    1.0\n",
      "b   0.65  8.8e-3   0.34  -0.02   0.42   0.65   0.88   1.32   1522    1.0\n",
      "\n",
      "Samples were drawn using NUTS at Sun May 12 18:51:42 2019.\n",
      "For each parameter, n_eff is a crude measure of effective sample size,\n",
      "and Rhat is the potential scale reduction factor on split chains (at \n",
      "convergence, Rhat=1).\n"
     ]
    }
   ],
   "source": [
    "# extract information\n",
    "chain = fit.extract()\n",
    "print(fit.stansummary(['a','b']))\n"
   ]
  },
  {
   "cell_type": "code",
   "execution_count": 31,
   "metadata": {},
   "outputs": [
    {
     "data": {
      "text/plain": [
       "[<matplotlib.lines.Line2D at 0x131adba58>]"
      ]
     },
     "execution_count": 31,
     "metadata": {},
     "output_type": "execute_result"
    },
    {
     "data": {
      "image/png": "[encoded data removed]",
      "text/plain": [
       "<Figure size 576x432 with 1 Axes>"
      ]
     },
     "metadata": {
      "needs_background": "light"
     },
     "output_type": "display_data"
    }
   ],
   "source": [
    "# make some plots of interest\n",
    "\n",
    "plt.plot(x,yp,'ko')\n",
    "plt.errorbar(x,yp,yerr=y_err,xerr=x_err,fmt='ko')\n",
    "\n",
    "level = 95.4\n",
    "plt.fill_between(x_model,\n",
    "                np.percentile(chain['straight_line'], 50 - 0.5*level, axis=0 ),\n",
    "                np.percentile(chain['straight_line'], 50 + 0.5*level, axis=0 ),\n",
    "                color='xkcd:cobalt blue',alpha=1.0)\n",
    "\n",
    "level = 68.3\n",
    "plt.fill_between(x_model,\n",
    "                np.percentile(chain['straight_line'], 50 - 0.5*level, axis=0 ),\n",
    "                np.percentile(chain['straight_line'], 50 + 0.5*level, axis=0 ),\n",
    "                color='xkcd:yellowish orange',alpha=1)\n",
    "\n",
    "fit_model = np.median(chain['straight_line'],axis=0)\n",
    "plt.plot(x_model,fit_model,linewidth=2,color='gold')\n",
    "    \n",
    "plt.xlabel('x')\n",
    "plt.ylabel('y')\n",
    "\n",
    "plt.plot(x_model,a+x_model*b,color='cyan',linewidth=4)"
   ]
  },
  {
   "cell_type": "code",
   "execution_count": null,
   "metadata": {},
   "outputs": [],
   "source": []
  }
 ],
 "metadata": {
  "kernelspec": {
   "display_name": "Python 3",
   "language": "python",
   "name": "python3"
  },
  "language_info": {
   "codemirror_mode": {
    "name": "ipython",
    "version": 3
   },
   "file_extension": ".py",
   "mimetype": "text/x-python",
   "name": "python",
   "nbconvert_exporter": "python",
   "pygments_lexer": "ipython3",
   "version": "3.7.7"
  }
 },
 "nbformat": 4,
 "nbformat_minor": 2
}
