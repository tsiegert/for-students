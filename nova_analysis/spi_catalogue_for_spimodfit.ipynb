{
 "cells": [
  {
   "cell_type": "markdown",
   "id": "9592c187",
   "metadata": {},
   "source": [
    "<h3>things to import</h3>"
   ]
  },
  {
   "cell_type": "code",
   "execution_count": 1,
   "id": "cc580914",
   "metadata": {},
   "outputs": [],
   "source": [
    "import numpy as np\n",
    "from astropy.io import fits\n",
    "import matplotlib.pyplot as plt\n",
    "import astropy.units as u\n",
    "from astropy.coordinates import SkyCoord\n",
    "import pandas as pd\n",
    "from copy import copy"
   ]
  },
  {
   "cell_type": "markdown",
   "id": "85fa7706",
   "metadata": {},
   "source": [
    "<h3>catalogue file for all SPI sources</h3>"
   ]
  },
  {
   "cell_type": "code",
   "execution_count": 2,
   "id": "adb15f47",
   "metadata": {},
   "outputs": [],
   "source": [
    "allcat = fits.open('spi_cat_all_source_spimodfit.fits.gz')"
   ]
  },
  {
   "cell_type": "markdown",
   "id": "84b2772b",
   "metadata": {},
   "source": [
    "<h3>extensions</h3>"
   ]
  },
  {
   "cell_type": "code",
   "execution_count": 3,
   "id": "e434e618",
   "metadata": {},
   "outputs": [
    {
     "name": "stdout",
     "output_type": "stream",
     "text": [
      "Filename: spi_cat_all_source_spimodfit.fits.gz\n",
      "No.    Name      Ver    Type      Cards   Dimensions   Format\n",
      "  0  PRIMARY       1 PrimaryHDU       6   ()      \n",
      "  1  SPI.-SRCL-CAT    1 BinTableHDU    112   256R x 36C   [16A, D, 19A, I, E, E, E, B, B, B, B, 32A, I, 8E, 128A, I, 32E, 128A, I, 8E, 24A, E, E, E, E, E, E, E, E, 256E, 256E, 256E, 256E, I, I, 19A]   \n"
     ]
    }
   ],
   "source": [
    "allcat.info()"
   ]
  },
  {
   "cell_type": "markdown",
   "id": "d9b70b14",
   "metadata": {},
   "source": [
    "<h3>columns in extension 1</h3>"
   ]
  },
  {
   "cell_type": "code",
   "execution_count": 4,
   "id": "3072dbaa",
   "metadata": {},
   "outputs": [
    {
     "data": {
      "text/plain": [
       "ColDefs(\n",
       "    name = 'BIRD_SOURCE_ID'; format = '16A'\n",
       "    name = 'DAY_ID'; format = 'D'; unit = 'd'\n",
       "    name = 'NAME'; format = '19A'\n",
       "    name = 'CLASS'; format = 'I'; bscale = 1; bzero = 32768\n",
       "    name = 'RA_OBJ'; format = 'E'; unit = 'deg'\n",
       "    name = 'DEC_OBJ'; format = 'E'; unit = 'deg'\n",
       "    name = 'ERR_RAD'; format = 'E'; unit = 'deg'\n",
       "    name = 'ISGRI_FLAG'; format = 'B'\n",
       "    name = 'JEMX_FLAG'; format = 'B'\n",
       "    name = 'SPI_FLAG'; format = 'B'\n",
       "    name = 'PICSIT_FLAG'; format = 'B'\n",
       "    name = 'SPA_MODL'; format = '32A'\n",
       "    name = 'SPA_NPAR'; format = 'I'; bscale = 1; bzero = 32768\n",
       "    name = 'SPA_PARS'; format = '8E'\n",
       "    name = 'SPE_MODL'; format = '128A'\n",
       "    name = 'SPE_NPAR'; format = 'I'; bscale = 1; bzero = 32768\n",
       "    name = 'SPE_PARS'; format = '32E'\n",
       "    name = 'VAR_MODL'; format = '128A'\n",
       "    name = 'VAR_NPAR'; format = 'I'; bscale = 1; bzero = 32768\n",
       "    name = 'VAR_PARS'; format = '8E'\n",
       "    name = 'COMMENTS'; format = '24A'\n",
       "    name = 'SPI_FLUX_1'; format = 'E'; unit = 'ph/cm2/s'\n",
       "    name = 'SPI_FLUX_2'; format = 'E'; unit = 'ph/cm2/s'\n",
       "    name = 'ISGR_FLUX_1'; format = 'E'; unit = 'cnts/s'\n",
       "    name = 'ISGR_FLUX_2'; format = 'E'; unit = 'cnts/s'\n",
       "    name = 'PICS_FLUX_1'; format = 'E'; unit = 'cnts/s'\n",
       "    name = 'PICS_FLUX_2'; format = 'E'; unit = 'cnts/s'\n",
       "    name = 'JEMX_FLUX_1'; format = 'E'; unit = 'cnts/s'\n",
       "    name = 'JEMX_FLUX_2'; format = 'E'; unit = 'cnts/s'\n",
       "    name = 'E_MIN'; format = '256E'; unit = 'keV'\n",
       "    name = 'E_MAX'; format = '256E'; unit = 'keV'\n",
       "    name = 'FLUX'; format = '256E'; unit = 'ph/cm2/s'\n",
       "    name = 'FLUX_ERR'; format = '256E'; unit = 'ph/cm2/s'\n",
       "    name = 'SEL_FLAG'; format = 'I'; bscale = 1; bzero = 32768\n",
       "    name = 'FLAG'; format = 'I'\n",
       "    name = 'SOURCE_ID'; format = '19A'\n",
       ")"
      ]
     },
     "execution_count": 4,
     "metadata": {},
     "output_type": "execute_result"
    }
   ],
   "source": [
    "allcat[1].columns"
   ]
  },
  {
   "cell_type": "markdown",
   "id": "0c1083e7",
   "metadata": {},
   "source": [
    "<h3>to make a new entry, these columns are required for your new sources</h3>"
   ]
  },
  {
   "cell_type": "code",
   "execution_count": null,
   "id": "78db4416",
   "metadata": {},
   "outputs": [],
   "source": []
  },
  {
   "cell_type": "markdown",
   "id": "313e5225",
   "metadata": {},
   "source": [
    "<h3>Suppose your new source is at the position $(l,b) = (180.00,-0.00)$ and has the name Galactic Anti-Center. Spimodfit requires the source to be in RA and DEC and not in Galactic longitude and latitude. Therefore, we convert the coordinates to RA and DEC:</h3>"
   ]
  },
  {
   "cell_type": "code",
   "execution_count": 19,
   "id": "b125e4b9",
   "metadata": {},
   "outputs": [],
   "source": [
    "gl = 180.00\n",
    "gb = -0.00"
   ]
  },
  {
   "cell_type": "code",
   "execution_count": 20,
   "id": "1b748a79",
   "metadata": {},
   "outputs": [],
   "source": [
    "coords = SkyCoord(l=gl,b=gb,unit='deg',frame='galactic')"
   ]
  },
  {
   "cell_type": "code",
   "execution_count": 21,
   "id": "8a10830c",
   "metadata": {},
   "outputs": [],
   "source": [
    "ra,dec = coords.icrs.ra.value,coords.icrs.dec.value"
   ]
  },
  {
   "cell_type": "code",
   "execution_count": 22,
   "id": "d3ed3f67",
   "metadata": {},
   "outputs": [
    {
     "data": {
      "text/plain": [
       "(86.40498828654475, 28.93617776179148)"
      ]
     },
     "execution_count": 22,
     "metadata": {},
     "output_type": "execute_result"
    }
   ],
   "source": [
    "ra,dec"
   ]
  },
  {
   "cell_type": "markdown",
   "id": "9347f9f5",
   "metadata": {},
   "source": [
    "<h3>the name should be meaningful:</h3>"
   ]
  },
  {
   "cell_type": "code",
   "execution_count": 23,
   "id": "a2015cb9",
   "metadata": {},
   "outputs": [],
   "source": [
    "name = 'Gal_AntiCenter'"
   ]
  },
  {
   "cell_type": "code",
   "execution_count": null,
   "id": "16ea669d",
   "metadata": {},
   "outputs": [],
   "source": []
  },
  {
   "cell_type": "markdown",
   "id": "068b97a7",
   "metadata": {},
   "source": [
    "<h3>to append a row in the table, we need to know how many are in there right now:</h3>"
   ]
  },
  {
   "cell_type": "code",
   "execution_count": 24,
   "id": "5b4e4505",
   "metadata": {},
   "outputs": [
    {
     "data": {
      "text/plain": [
       "256"
      ]
     },
     "execution_count": 24,
     "metadata": {},
     "output_type": "execute_result"
    }
   ],
   "source": [
    "n_src = len(allcat[1].data)\n",
    "n_src"
   ]
  },
  {
   "cell_type": "code",
   "execution_count": 25,
   "id": "53514308",
   "metadata": {},
   "outputs": [],
   "source": [
    "new_cat = fits.BinTableHDU.from_columns(allcat[1].columns, nrows=n_src+1)"
   ]
  },
  {
   "cell_type": "markdown",
   "id": "d1991ae7",
   "metadata": {},
   "source": [
    "<h3>now we can the same entries, except that the last one is empty</h3>"
   ]
  },
  {
   "cell_type": "code",
   "execution_count": 26,
   "id": "9cdc80ee",
   "metadata": {},
   "outputs": [
    {
     "data": {
      "text/plain": [
       "''"
      ]
     },
     "execution_count": 26,
     "metadata": {},
     "output_type": "execute_result"
    }
   ],
   "source": [
    "new_cat.data['NAME'][-1]"
   ]
  },
  {
   "cell_type": "markdown",
   "id": "c1ae1243",
   "metadata": {},
   "source": [
    "<h3> to simplyfy the procedure, we copy the entries from the second-to-last to the last:</h3>"
   ]
  },
  {
   "cell_type": "code",
   "execution_count": 27,
   "id": "d72c08a8",
   "metadata": {},
   "outputs": [],
   "source": [
    "new_cat.data[-1] = copy(new_cat.data[-2])"
   ]
  },
  {
   "cell_type": "code",
   "execution_count": 28,
   "id": "233aeb6e",
   "metadata": {},
   "outputs": [
    {
     "name": "stdout",
     "output_type": "stream",
     "text": [
      "V2400 Oph\n",
      "V2400 Oph\n",
      "258.174\n",
      "-24.268105\n"
     ]
    }
   ],
   "source": [
    "print(new_cat.data['NAME'][-1])\n",
    "print(new_cat.data['SOURCE_ID'][-1])\n",
    "print(new_cat.data['RA_OBJ'][-1])\n",
    "print(new_cat.data['DEC_OBJ'][-1])"
   ]
  },
  {
   "cell_type": "markdown",
   "id": "3e7c1436",
   "metadata": {},
   "source": [
    "<h3>we need to change the NAME, RA_OBJ, DEC_OBJ, and SOURCE_ID column for our new source:</h3>"
   ]
  },
  {
   "cell_type": "code",
   "execution_count": 29,
   "id": "bdfa14cf",
   "metadata": {},
   "outputs": [],
   "source": [
    "new_cat.data['NAME'][-1] = name\n",
    "new_cat.data['SOURCE_ID'][-1] = name\n",
    "new_cat.data['RA_OBJ'][-1] = ra\n",
    "new_cat.data['DEC_OBJ'][-1] = dec"
   ]
  },
  {
   "cell_type": "code",
   "execution_count": 30,
   "id": "5f166773",
   "metadata": {},
   "outputs": [
    {
     "name": "stdout",
     "output_type": "stream",
     "text": [
      "Gal_AntiCenter\n",
      "Gal_AntiCenter\n",
      "86.40499\n",
      "28.936178\n"
     ]
    }
   ],
   "source": [
    "print(new_cat.data['NAME'][-1])\n",
    "print(new_cat.data['SOURCE_ID'][-1])\n",
    "print(new_cat.data['RA_OBJ'][-1])\n",
    "print(new_cat.data['DEC_OBJ'][-1])"
   ]
  },
  {
   "cell_type": "code",
   "execution_count": null,
   "id": "8557afe0",
   "metadata": {},
   "outputs": [],
   "source": []
  },
  {
   "cell_type": "markdown",
   "id": "a8a98e2b",
   "metadata": {},
   "source": [
    "<h3>Finally, we need to create a new fits file and save it:</h3>"
   ]
  },
  {
   "cell_type": "code",
   "execution_count": 31,
   "id": "a75c10d6",
   "metadata": {},
   "outputs": [],
   "source": [
    "new_cat.name = 'SPI.-SRCL-CAT'"
   ]
  },
  {
   "cell_type": "code",
   "execution_count": 32,
   "id": "bb9e3238",
   "metadata": {},
   "outputs": [],
   "source": [
    "new_cat.writeto('spi_cat_all_source_GalAntiCenter_spimodfit.fits',overwrite=True)"
   ]
  },
  {
   "cell_type": "code",
   "execution_count": null,
   "id": "c3ae3da1",
   "metadata": {},
   "outputs": [],
   "source": []
  },
  {
   "cell_type": "code",
   "execution_count": null,
   "id": "698fe17e",
   "metadata": {},
   "outputs": [],
   "source": []
  }
 ],
 "metadata": {
  "kernelspec": {
   "display_name": "3ml_stuff",
   "language": "python",
   "name": "3ml_stuff"
  },
  "language_info": {
   "codemirror_mode": {
    "name": "ipython",
    "version": 3
   },
   "file_extension": ".py",
   "mimetype": "text/x-python",
   "name": "python",
   "nbconvert_exporter": "python",
   "pygments_lexer": "ipython3",
   "version": "3.7.8"
  }
 },
 "nbformat": 4,
 "nbformat_minor": 5
}
