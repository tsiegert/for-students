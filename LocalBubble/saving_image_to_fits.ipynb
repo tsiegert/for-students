{
 "cells": [
  {
   "cell_type": "code",
   "execution_count": 1,
   "metadata": {},
   "outputs": [],
   "source": [
    "import numpy as np\n",
    "from numpy import cos, sin, tan, arccos, arcsin, arctan, arctan2, pi, exp, sqrt, cosh, fabs, deg2rad, rad2deg\n",
    "import matplotlib.pyplot as plt\n",
    "from astropy.io import fits\n",
    "from astropy import wcs\n",
    "import datetime\n",
    "import math"
   ]
  },
  {
   "cell_type": "code",
   "execution_count": null,
   "metadata": {},
   "outputs": [],
   "source": []
  },
  {
   "cell_type": "markdown",
   "metadata": {},
   "source": [
    "<h3>example image</h3>"
   ]
  },
  {
   "cell_type": "markdown",
   "metadata": {},
   "source": [
    "<h3>coordinates</h3>"
   ]
  },
  {
   "cell_type": "code",
   "execution_count": 15,
   "metadata": {},
   "outputs": [
    {
     "name": "stdout",
     "output_type": "stream",
     "text": [
      "12.566370614359176\n",
      "12.566370614359172\n"
     ]
    }
   ],
   "source": [
    "# coordinates:\n",
    "pixelsize = 3.\n",
    "\n",
    "# definition of image space\n",
    "l_min,l_max = 0,360\n",
    "b_min,b_max = -90,90\n",
    "#deg2rad = pi/180\n",
    "\n",
    "# definition of pixel size and number of bins\n",
    "n_l = int((l_max-l_min)/pixelsize)\n",
    "n_b = int((b_max-b_min)/pixelsize)\n",
    "\n",
    "b_arrg = np.linspace(b_min,b_max,n_b+1)*deg2rad(1)\n",
    "l_arrg = np.linspace(l_min,l_max,n_l+1)*deg2rad(1)\n",
    "b_arr = (b_arrg[1:]+b_arrg[0:-1])/2\n",
    "l_arr = (l_arrg[1:]+l_arrg[0:-1])/2\n",
    "\n",
    "# define 2D meshgrid for image coordinates\n",
    "L_ARRg, B_ARRg = np.meshgrid(l_arrg,b_arrg)\n",
    "L_ARR, B_ARR = np.meshgrid(l_arr,b_arr)\n",
    "\n",
    "# jacobian (integral measure on a sphere, exact for this pixel definition, should be 4pi for full sky)\n",
    "dOmega = (np.sin(B_ARR + deg2rad(pixelsize/2)) - np.sin(B_ARR - deg2rad(pixelsize/2))) * pixelsize * deg2rad(1)\n",
    "print(np.sum(dOmega))\n",
    "print(4*pi)"
   ]
  },
  {
   "cell_type": "markdown",
   "metadata": {},
   "source": [
    "<h3>2D Gaussian function</h3>"
   ]
  },
  {
   "cell_type": "code",
   "execution_count": 16,
   "metadata": {},
   "outputs": [],
   "source": [
    "def Gaussian2D(L_ARR,B_ARR,p):\n",
    "    return p[0] * exp(-0.5*((L_ARR-p[1])**2/p[2]**2 + (B_ARR-p[3])**2/p[4]**2))"
   ]
  },
  {
   "cell_type": "code",
   "execution_count": 19,
   "metadata": {},
   "outputs": [],
   "source": [
    "#some values:\n",
    "p1 = [1e-5,deg2rad(45+180),deg2rad(45),deg2rad(0),deg2rad(10)]\n",
    "p2 = [1e-5,deg2rad(-135+180),deg2rad(20),deg2rad(0),deg2rad(30)]\n",
    "gauss_map = Gaussian2D(L_ARR,B_ARR,p1) + Gaussian2D(L_ARR,B_ARR,p2)"
   ]
  },
  {
   "cell_type": "markdown",
   "metadata": {},
   "source": [
    "<h3>what the map looks like</h3>"
   ]
  },
  {
   "cell_type": "code",
   "execution_count": 20,
   "metadata": {},
   "outputs": [
    {
     "data": {
      "text/plain": [
       "<matplotlib.collections.QuadMesh at 0x137c51110>"
      ]
     },
     "execution_count": 20,
     "metadata": {},
     "output_type": "execute_result"
    },
    {
     "data": {
      "image/png": "[encoded data removed]",
      "text/plain": [
       "<Figure size 432x288 with 1 Axes>"
      ]
     },
     "metadata": {
      "needs_background": "light"
     },
     "output_type": "display_data"
    }
   ],
   "source": [
    "plt.pcolormesh(L_ARRg,B_ARRg,gauss_map)"
   ]
  },
  {
   "cell_type": "code",
   "execution_count": null,
   "metadata": {},
   "outputs": [],
   "source": []
  },
  {
   "cell_type": "markdown",
   "metadata": {},
   "source": [
    "<h3>Setting up the astropy world coordinate system</h3>"
   ]
  },
  {
   "cell_type": "code",
   "execution_count": 21,
   "metadata": {},
   "outputs": [],
   "source": [
    "from astropy import wcs\n",
    "wcs = wcs.WCS(naxis=2)\n",
    "nx = n_l\n",
    "ny = n_b\n",
    "pixscalelon = pixelsize # cdelt1\n",
    "pixscalelat = pixelsize  # cdelt2\n",
    "\n",
    "\n",
    "wcs.wcs.crpix = [60+0.5,30+0.5] # Ref pixel for axis 1 and 2\n",
    "# the 0.5 is important so that the map fits the coordinate grid!!!\n",
    "wcs.wcs.cdelt = np.array([pixscalelon, pixscalelat]) # what is the pixel scale in lon, lat.\n",
    "wcs.wcs.crval = [np.rad2deg(l_arrg[60]),np.rad2deg(b_arrg[30])]  #what is the galactic coordinate of that pixel.\n",
    "wcs.wcs.ctype = [\"GLON-CAR\", \"GLAT-CAR\"] #CAR projection #AIT projection"
   ]
  },
  {
   "cell_type": "code",
   "execution_count": 22,
   "metadata": {},
   "outputs": [
    {
     "data": {
      "text/plain": [
       "datetime.date(2023, 4, 4)"
      ]
     },
     "execution_count": 22,
     "metadata": {},
     "output_type": "execute_result"
    }
   ],
   "source": [
    "today = datetime.date.today()\n",
    "today"
   ]
  },
  {
   "cell_type": "markdown",
   "metadata": {},
   "source": [
    "<h3>Saving information to file</h3>"
   ]
  },
  {
   "cell_type": "code",
   "execution_count": 23,
   "metadata": {},
   "outputs": [],
   "source": [
    "header = wcs.to_header()\n",
    "header['history'] = \"Thomas Siegert created this file on \"+str(today)+\" \" \n",
    "\n",
    "# define header\n",
    "hdu = fits.PrimaryHDU(gauss_map,header=header)\n",
    "    \n",
    "# save file\n",
    "hdu.writeto('gauss_map.fits', overwrite=True)"
   ]
  },
  {
   "cell_type": "code",
   "execution_count": null,
   "metadata": {},
   "outputs": [],
   "source": []
  },
  {
   "cell_type": "markdown",
   "metadata": {},
   "source": [
    "<h3>Conversion from FITS files to MEGAlib dat file (to use with .source in cosima)</h3>"
   ]
  },
  {
   "cell_type": "code",
   "execution_count": 28,
   "metadata": {},
   "outputs": [],
   "source": [
    "def gal2mega(energy,pixelsize,input_file,output_file):\n",
    "    from astropy.wcs import WCS\n",
    "\n",
    "    \"\"\"\n",
    "    Convert FITS map to MEGAlib cosima input.\n",
    "\n",
    "    input_file: fits file to convert to MEGAlib\n",
    "    energy: line energy (not working for continuum here!)\n",
    "    output_file: Name of output file (do not include .dat). \n",
    "    \"\"\"\n",
    "\n",
    "    # Define phi (PA), theta (TA), and energy (EA) points:\n",
    "    PA = np.arange(l_min-pixelsize/2,l_max+pixelsize*3/2,pixelsize)\n",
    "    TA = np.arange(0,180+pixelsize/2,pixelsize)\n",
    "    EA = np.array(energy)\n",
    "\n",
    "    # Convert PA to file input:\n",
    "    PA_line = \"PA\"\n",
    "    for i in range(0,len(PA)):\n",
    "        PA_line += \" \" + str(PA[i])\n",
    "\n",
    "    # Convert TA to file input:\n",
    "    TA_line = \"TA\"\n",
    "    for i in range(0,len(TA)):\n",
    "        TA_line += \" \" + str(TA[i])\n",
    "\n",
    "    # Convert EA to file input:\n",
    "    EA_line = \"EA\"\n",
    "    for i in range(0,len(EA)):\n",
    "        EA_line += \" \" + str(EA[i]-0.001) + \" \" + str(EA[i]) + \" \" + str(EA[i]+0.001)\n",
    "\n",
    "    # Write file:\n",
    "    f = open(output_file + \".dat\",\"w\")\n",
    "    f.write(\"IP LIN\\n\")\n",
    "    f.write(PA_line + \"\\n\")\n",
    "    f.write(TA_line + \"\\n\")\n",
    "    f.write(EA_line + \"\\n\")\n",
    "\n",
    "    # Make main:\n",
    "    for E in range(0,len(energy)):\n",
    "\n",
    "        this_E_list = []\n",
    "        for i in range(0,len(PA)):\n",
    "\n",
    "            if PA[i] > 0:\n",
    "                this_l = PA[i]\n",
    "            if PA[i] < 0:\n",
    "                this_l = 360 + PA[i]\n",
    "\n",
    "            for j in range(0,len(TA)):\n",
    "\n",
    "                this_b = 90-TA[j]\n",
    "\n",
    "                # to get flux from mapcube:\n",
    "\n",
    "                hdu = fits.open(input_file)\n",
    "                data = hdu[0].data\n",
    "                #self.energy = hdu[1].data\n",
    "                #self.energy = self.energy['Energy']\n",
    "                header = hdu[0].header\n",
    "                file_wcs = WCS(header)\n",
    "                \n",
    "                \n",
    "                pixs = file_wcs.all_world2pix(np.array([[this_l,this_b]]),0)\n",
    "                this_l_pix = int(math.floor(pixs[0][0]))\n",
    "                this_b_pix = int(math.floor(pixs[0][1]))\n",
    "                this_flux = data[this_b_pix,this_l_pix]# / 1000.0 # ph/cm^2/s/keV/sr\n",
    "\n",
    "                # Format:\n",
    "                this_flux = float('{:.5e}'.format(this_flux))\n",
    "\n",
    "                # Write line:\n",
    "                this_line = \"AP \" + str(i) + \" \" + str(j) + \" \" + str(1) + \" \" + str(this_flux) + \"\\n\"\n",
    "                f.write(this_line)\n",
    "\n",
    "    # Close file:\n",
    "    f.write(\"EN\")\n",
    "    f.close()"
   ]
  },
  {
   "cell_type": "code",
   "execution_count": 29,
   "metadata": {},
   "outputs": [],
   "source": [
    "gal2mega(energy=[1809.],pixelsize=3,input_file='gauss_map.fits',output_file='gauss_map')"
   ]
  },
  {
   "cell_type": "code",
   "execution_count": null,
   "metadata": {},
   "outputs": [],
   "source": []
  },
  {
   "cell_type": "code",
   "execution_count": null,
   "metadata": {},
   "outputs": [],
   "source": []
  },
  {
   "cell_type": "code",
   "execution_count": null,
   "metadata": {},
   "outputs": [],
   "source": []
  },
  {
   "cell_type": "code",
   "execution_count": null,
   "metadata": {},
   "outputs": [],
   "source": []
  },
  {
   "cell_type": "markdown",
   "metadata": {},
   "source": [
    "<h3>built-in beta version (with 1 deg pixels fixed, etc)</h3>"
   ]
  },
  {
   "cell_type": "code",
   "execution_count": 11,
   "metadata": {},
   "outputs": [
    {
     "name": "stderr",
     "output_type": "stream",
     "text": [
      "/usr/local/lib/python3.7/site-packages/pandas/compat/_optional.py:138: UserWarning: Pandas requires version '2.7.0' or newer of 'numexpr' (version '2.6.9' currently installed).\n",
      "  warnings.warn(msg, UserWarning)\n"
     ]
    }
   ],
   "source": [
    "from GalMaps import *"
   ]
  },
  {
   "cell_type": "code",
   "execution_count": 12,
   "metadata": {},
   "outputs": [],
   "source": [
    "instance = GalMapsFits()"
   ]
  },
  {
   "cell_type": "code",
   "execution_count": 13,
   "metadata": {},
   "outputs": [
    {
     "name": "stdout",
     "output_type": "stream",
     "text": [
      "\n",
      "**********************\n",
      "GALPROP Fits READER\n",
      "\n"
     ]
    }
   ],
   "source": [
    "instance.read_fits_file('gauss_map.fits',energy_list=1.809)"
   ]
  },
  {
   "cell_type": "code",
   "execution_count": 14,
   "metadata": {},
   "outputs": [
    {
     "name": "stdout",
     "output_type": "stream",
     "text": [
      "\n",
      "energy list [keV]:\n",
      "[1809.0]\n",
      "\n"
     ]
    }
   ],
   "source": [
    "instance.gal2mega(\"fits\",output_file='test2')"
   ]
  },
  {
   "cell_type": "code",
   "execution_count": null,
   "metadata": {},
   "outputs": [],
   "source": []
  },
  {
   "cell_type": "code",
   "execution_count": null,
   "metadata": {},
   "outputs": [],
   "source": []
  },
  {
   "cell_type": "code",
   "execution_count": null,
   "metadata": {},
   "outputs": [],
   "source": []
  }
 ],
 "metadata": {
  "kernelspec": {
   "display_name": "Python 3",
   "language": "python",
   "name": "python3"
  },
  "language_info": {
   "codemirror_mode": {
    "name": "ipython",
    "version": 3
   },
   "file_extension": ".py",
   "mimetype": "text/x-python",
   "name": "python",
   "nbconvert_exporter": "python",
   "pygments_lexer": "ipython3",
   "version": "3.7.13"
  }
 },
 "nbformat": 4,
 "nbformat_minor": 2
}
